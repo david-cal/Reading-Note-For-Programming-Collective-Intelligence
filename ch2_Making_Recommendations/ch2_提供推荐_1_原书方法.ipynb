{
 "cells": [
  {
   "cell_type": "markdown",
   "metadata": {},
   "source": [
    "# 第2章 提供推荐（1）\n",
    "## 要点\n",
    "### “人以群分法”：基于用户的协作性过滤\n",
    "### “物以类聚法”：基于物品的协作性过滤\n",
    "### 采用教材中的方法，通过字典实现"
   ]
  },
  {
   "cell_type": "markdown",
   "metadata": {},
   "source": [
    "## 1 探索小数据集案例"
   ]
  },
  {
   "cell_type": "markdown",
   "metadata": {},
   "source": [
    "### 1.1 查看原始小数据集，教材：p8"
   ]
  },
  {
   "cell_type": "markdown",
   "metadata": {},
   "source": [
    "#### critics为偏好数据集，记录了每一个人对其看过影片的评价，结构为嵌套字典，包含内外键，外键为用户名称，内键为影片名称，值为对应用户对该部的评分"
   ]
  },
  {
   "cell_type": "code",
   "execution_count": 13,
   "metadata": {},
   "outputs": [],
   "source": [
    "critics={'Lisa Rose':{'Lady in the Water':2.5, 'Snakes on a Plane' :3.5,\n",
    "'Just My Luck':3.0, 'Superman Returns':3.5, 'You,Me and Dupree':2.5,\n",
    "'The Night Listener':3.0},\n",
    "'Gene Seymour':{'Lady in the Water':3.0,'Snakes on a Plane':3.5,\n",
    "'Just My Luck':1.5,'Superman Returns':5.0,'The Night Listener':3.0,\n",
    "'You,Me and Dupree':3.5},\n",
    "'Michael Phillips':{'Lady in the Water':2.5, 'Snakes on a Plane':3.0,\n",
    "'Superman Returns':3.5,'The Night Listener':4.0},\n",
    "'Claudia Puig':{'Snakes on a Plane':3.5,'Just My Luck':3.0,\n",
    "'The Night Listener':4.5,'Superman Returns':4.0,'You,Me and Dupree':2.5},\n",
    "'Mich Lasalle':{'Lady in the Water':3.0,'Snakes on a Plane':4.0,\n",
    "'Just My Luck':2.0,'Superman Returns':3.0,'The Night Listener':3.0,\n",
    "'You,Me and Dupree':2.0},\n",
    "'Jack Mattews':{'Lady in the Water':3.0,'Snakes on a Plane':4.0,\n",
    "'The Night Listener':3.0,'Superman Returns':5.0,'You,Me and Dupree':3.5},\n",
    "'Toby':{'Snakes on a Plane':4.5,'You,Me and Dupree':1.0,'Superman Returns':4.0}}"
   ]
  },
  {
   "cell_type": "markdown",
   "metadata": {},
   "source": [
    "#### 偏好数据集总共包含7位不同用户的数据"
   ]
  },
  {
   "cell_type": "code",
   "execution_count": 14,
   "metadata": {},
   "outputs": [
    {
     "name": "stdout",
     "output_type": "stream",
     "text": [
      "评价用户数 7\n"
     ]
    }
   ],
   "source": [
    "print('评价用户数 %d'%len(critics.keys()))"
   ]
  },
  {
   "cell_type": "markdown",
   "metadata": {},
   "source": [
    "#### 影片‘Snakes on a Plane’评价次数最多，共7次"
   ]
  },
  {
   "cell_type": "code",
   "execution_count": 15,
   "metadata": {},
   "outputs": [
    {
     "data": {
      "text/plain": [
       "{'Snakes on a Plane': 7,\n",
       " 'Superman Returns': 7,\n",
       " 'You,Me and Dupree': 6,\n",
       " 'The Night Listener': 6,\n",
       " 'Lady in the Water': 5,\n",
       " 'Just My Luck': 4}"
      ]
     },
     "execution_count": 15,
     "metadata": {},
     "output_type": "execute_result"
    }
   ],
   "source": [
    "#记录偏好数据库中影片出现批次\n",
    "items_freq = {}\n",
    "for p in critics.keys():\n",
    "    for i in critics[p].keys():\n",
    "        items_freq.setdefault(i,0)#对新的key的value值初始为0\n",
    "        items_freq[i] += 1 #计数\n",
    "\n",
    "items_freq = dict(sorted(items_freq.items(),key = lambda x:x[1],reverse = True))\n",
    "items_freq"
   ]
  },
  {
   "cell_type": "markdown",
   "metadata": {},
   "source": [
    "## 1.2  根据偏好数据衡量人（物）之间的偏好相似程度"
   ]
  },
  {
   "cell_type": "markdown",
   "metadata": {},
   "source": [
    "### 1.2.1 定义函数：欧氏距离相似度评价方法"
   ]
  },
  {
   "cell_type": "code",
   "execution_count": 16,
   "metadata": {},
   "outputs": [],
   "source": [
    "#计算欧式距离相似度函数\n",
    "from math import sqrt\n",
    "def sim_distance(prefs, person1, person2):\n",
    "    #获取两个人都看过的电影列表\n",
    "    si = {}\n",
    "    for item in prefs[person1]:\n",
    "        if item in prefs[person2]:\n",
    "            si[item] = 1\n",
    "    if len(si) == 0: return 0\n",
    "    \n",
    "    #计算距离\n",
    "    sum_of_squares = sum([pow(prefs[person1][item] - prefs[person2][item],2) for item in prefs[person1] if item in prefs[person2]])\n",
    "    \n",
    "    return 1/(1 + sqrt(sum_of_squares))#将1(1+欧式距离)，表示距离越大、相似度越低，反之，同时避免分母为0情况"
   ]
  },
  {
   "cell_type": "markdown",
   "metadata": {},
   "source": [
    "#### 计算Lisa Rose与Gene Seymour之间的距离"
   ]
  },
  {
   "cell_type": "code",
   "execution_count": 17,
   "metadata": {},
   "outputs": [
    {
     "data": {
      "text/plain": [
       "0.29429805508554946"
      ]
     },
     "execution_count": 17,
     "metadata": {},
     "output_type": "execute_result"
    }
   ],
   "source": [
    "sim_distance(critics, 'Lisa Rose', 'Gene Seymour')"
   ]
  },
  {
   "cell_type": "markdown",
   "metadata": {},
   "source": [
    "#### 将欧氏距离相似度评价法可视化，以横纵轴为指定两部片子，将同时观看过两部片子的人绘制成散点图，类同书中图2-1"
   ]
  },
  {
   "cell_type": "code",
   "execution_count": 18,
   "metadata": {},
   "outputs": [],
   "source": [
    "\n",
    "def plot_scatter( f1, f2):\n",
    "    #{p:mar,....}\n",
    "    p_mark_f1 = {}\n",
    "    p_mark_f2 = {}\n",
    "\n",
    "    for p in critics.keys(): #遍历所有人\n",
    "        if f1 in critics[p] and f2 in critics[p]:#同时看过指定的两部片子\n",
    "            p_mark_f1[p] =  critics[p][f1] #为第1部片子建立评分字典，为横轴\n",
    "            p_mark_f2[p] =  critics[p][f2] #为第2部片子建立评分字典，为纵轴\n",
    "\n",
    "\n",
    "    print(p_mark_f1)\n",
    "    print(p_mark_f2)\n",
    "\n",
    "    plt.scatter(p_mark_f1.values(),p_mark_f2.values())\n",
    "\n",
    "    note = p_mark_f1.keys()#散点图中的点用评分人来进行标注\n",
    "    for i in range(len(note)):\n",
    "        plt.annotate(list(note)[i], xy = (list(p_mark_f1.values())[i], list(p_mark_f2.values())[i]), xytext = (list(p_mark_f1.values())[i]+0.1, list(p_mark_f2.values())[i]+0.1)) # 这里xy是需要标记的坐标，xytext是对应的标签坐标\n",
    "    \n",
    "    \n",
    "    plt.xlim([0, 5])#只调x轴\n",
    "    plt.ylim([0, 5])#只调y\n",
    "    \n",
    "    plt.xlabel(f1)\n",
    "    plt.ylabel(f2)\n",
    "    plt.show()"
   ]
  },
  {
   "cell_type": "markdown",
   "metadata": {},
   "source": [
    "#### 将以下两部影片之间的欧氏距离可视化"
   ]
  },
  {
   "cell_type": "code",
   "execution_count": 19,
   "metadata": {},
   "outputs": [
    {
     "name": "stdout",
     "output_type": "stream",
     "text": [
      "{'Lisa Rose': 2.5, 'Gene Seymour': 3.5, 'Claudia Puig': 2.5, 'Mich Lasalle': 2.0, 'Jack Mattews': 3.5, 'Toby': 1.0}\n",
      "{'Lisa Rose': 3.5, 'Gene Seymour': 3.5, 'Claudia Puig': 3.5, 'Mich Lasalle': 4.0, 'Jack Mattews': 4.0, 'Toby': 4.5}\n"
     ]
    },
    {
     "data": {
      "image/png": "[encoded data removed]",
      "text/plain": [
       "<Figure size 432x288 with 1 Axes>"
      ]
     },
     "metadata": {
      "needs_background": "light"
     },
     "output_type": "display_data"
    }
   ],
   "source": [
    "from matplotlib import pyplot as plt\n",
    "plot_scatter('You,Me and Dupree','Snakes on a Plane')"
   ]
  },
  {
   "cell_type": "markdown",
   "metadata": {},
   "source": [
    "#### 再换个角度可视化，将横纵轴互换，横纵轴为指定两个人，将两个人同时观看过的片子绘制成散点图，"
   ]
  },
  {
   "cell_type": "code",
   "execution_count": 20,
   "metadata": {},
   "outputs": [],
   "source": [
    "def plot_scatter2(critics,p1, p2):\n",
    "    \n",
    "    #统计两个人同时打过分的片单\n",
    "    f_all = {}\n",
    "    for p in critics.keys():\n",
    "        for f in critics[p].keys():\n",
    "            f_all.setdefault(f,0)#初始化一个键值对\n",
    "            f_all[f] += 1 #计数\n",
    "    \n",
    "    #{f:mar,....}\n",
    "    f_mark_p1 = {}\n",
    "    f_mark_p2 = {}\n",
    "\n",
    "    for f in f_all.keys():\n",
    "        if f in critics[p1] and f in critics[p2]:#两个人都看过该影片\n",
    "            f_mark_p1[f] = critics[p1][f]\n",
    "            f_mark_p2[f] = critics[p2][f]\n",
    "\n",
    "    print(f_mark_p1)\n",
    "    print(f_mark_p2)\n",
    "\n",
    "    plt.scatter(f_mark_p1.values(),f_mark_p2.values())\n",
    "\n",
    "    note = f_mark_p1.keys()#散点图中的点用评分人来进行标注\n",
    "    for i in range(len(note)):\n",
    "        plt.annotate(list(note)[i], xy = (list(f_mark_p1.values())[i], list(f_mark_p2.values())[i]), xytext = (list(f_mark_p1.values())[i]+0.1, list(f_mark_p2.values())[i]+0.1)) # 这里xy是需要标记的坐标，xytext是对应的标签坐标\n",
    "    \n",
    "    plt.xlim([0, 6])#只调x轴\n",
    "    plt.ylim([0, 6])#只调y\n",
    "    plt.xlabel(p1)\n",
    "    plt.ylabel(p2)\n",
    "    plt.show()"
   ]
  },
  {
   "cell_type": "code",
   "execution_count": 21,
   "metadata": {},
   "outputs": [
    {
     "name": "stdout",
     "output_type": "stream",
     "text": [
      "{'Lady in the Water': 3.0, 'Snakes on a Plane': 4.0, 'Superman Returns': 5.0, 'You,Me and Dupree': 3.5, 'The Night Listener': 3.0}\n",
      "{'Lady in the Water': 2.5, 'Snakes on a Plane': 3.5, 'Superman Returns': 3.5, 'You,Me and Dupree': 2.5, 'The Night Listener': 3.0}\n"
     ]
    },
    {
     "data": {
      "image/png": "[encoded data removed]",
      "text/plain": [
       "<Figure size 432x288 with 1 Axes>"
      ]
     },
     "metadata": {
      "needs_background": "light"
     },
     "output_type": "display_data"
    }
   ],
   "source": [
    "plot_scatter2(critics,'Jack Mattews', 'Lisa Rose')"
   ]
  },
  {
   "cell_type": "markdown",
   "metadata": {},
   "source": [
    "### 1.2.2 定义函数：p系数相似度评价方法"
   ]
  },
  {
   "cell_type": "code",
   "execution_count": 22,
   "metadata": {},
   "outputs": [],
   "source": [
    "def sim_pearson(prefs, p1, p2):\n",
    "    si = {}\n",
    "    \n",
    "    #找到比较两者之间的可比较交集，如两个人共同看过的影片\n",
    "    for item in prefs[p1]:\n",
    "        if item in prefs[p2]:\n",
    "            si[item] = 1\n",
    "    n = len(si)\n",
    "    if len(si) == 0: return 0 #书中疑似错误\n",
    "    \n",
    "    #step 1：求和\n",
    "    sum1 = sum([prefs[p1][it] for it in si])\n",
    "    sum2 = sum([prefs[p2][it] for it in si])\n",
    "    \n",
    "    #step 2: 求平方的和\n",
    "    sum1Sq = sum([pow(prefs[p1][it],2) for it in si])\n",
    "    sum2Sq = sum([pow(prefs[p2][it],2) for it in si])\n",
    "    \n",
    "    #step 3：求乘积的和\n",
    "    pSum = sum([prefs[p1][it] * prefs[p2][it] for it in si])\n",
    "    \n",
    "    #step 4: 乘积的和 - 和的乘积/n\n",
    "    num = pSum - ( sum1 * sum2 / n)\n",
    "    #step 5: (平方的和 - 和的平方)/n\n",
    "    den = sqrt((sum1Sq - pow(sum1,2)/n) * (sum2Sq - pow(sum2,2)/n))\n",
    "    \n",
    "    if den == 0 : return 0 \n",
    "    p = num / den\n",
    "    \n",
    "    return p"
   ]
  },
  {
   "cell_type": "markdown",
   "metadata": {},
   "source": [
    "#### 计算Lisa Rose，Gene Seymour之间共同观看影片评分间的p相关性系数"
   ]
  },
  {
   "cell_type": "code",
   "execution_count": 23,
   "metadata": {},
   "outputs": [
    {
     "data": {
      "text/plain": [
       "0.7470178808339965"
      ]
     },
     "execution_count": 23,
     "metadata": {},
     "output_type": "execute_result"
    }
   ],
   "source": [
    "sim_pearson(critics, 'Lisa Rose', 'Jack Mattews')"
   ]
  },
  {
   "cell_type": "markdown",
   "metadata": {},
   "source": [
    "## 1.3 “人以群分”\n",
    "### 观察人与人之间的偏好相似度，并为指定人为其推荐未看过的影片"
   ]
  },
  {
   "cell_type": "markdown",
   "metadata": {},
   "source": [
    "### 1.3.1 定义函数：评估指定对象与其他所有对象的相似度"
   ]
  },
  {
   "cell_type": "code",
   "execution_count": 24,
   "metadata": {},
   "outputs": [],
   "source": [
    "#函数：找到与指定用户（或影片）最相似的TOP影片\n",
    "def topMatches(prefs, person, n=5,similarity = sim_pearson):\n",
    "    #参数1：偏好字典\n",
    "    #参数2：指定用户\n",
    "    #参数3：n，TOP n,缺省值为5\n",
    "    #参数3：相似度算法，缺省算法为p系数，也可以使用欧氏距离\n",
    "    \n",
    "    s = [(similarity(prefs,person,other),other) for other in prefs if other != person]\n",
    "    \n",
    "    s.sort()\n",
    "    s.reverse()\n",
    "    return s[0:n]"
   ]
  },
  {
   "cell_type": "markdown",
   "metadata": {},
   "source": [
    "#### 基于p系数计算Toby与其他所有人之间的TOP 3的相似度"
   ]
  },
  {
   "cell_type": "code",
   "execution_count": 25,
   "metadata": {},
   "outputs": [
    {
     "data": {
      "text/plain": [
       "[(0.9912407071619299, 'Lisa Rose'),\n",
       " (0.9244734516419049, 'Mich Lasalle'),\n",
       " (0.8934051474415647, 'Claudia Puig')]"
      ]
     },
     "execution_count": 25,
     "metadata": {},
     "output_type": "execute_result"
    }
   ],
   "source": [
    "topMatches(critics,'Toby',n=3)"
   ]
  },
  {
   "cell_type": "code",
   "execution_count": 32,
   "metadata": {},
   "outputs": [
    {
     "data": {
      "text/plain": [
       "[(1.0, 'Claudia Puig'),\n",
       " (0.40451991747794525, 'Lisa Rose'),\n",
       " (0.20459830184114206, 'Gene Seymour')]"
      ]
     },
     "execution_count": 32,
     "metadata": {},
     "output_type": "execute_result"
    }
   ],
   "source": [
    "topMatches(critics,'Michael Phillips',n=3)"
   ]
  },
  {
   "cell_type": "markdown",
   "metadata": {},
   "source": [
    "### 1.3.2 定义函数：为指定对象进行推荐"
   ]
  },
  {
   "cell_type": "code",
   "execution_count": 26,
   "metadata": {},
   "outputs": [],
   "source": [
    "#基于对象与对象之间的相似度为用户做推荐，即对指定对象没看过的影片进行推荐计算并排序，\n",
    "def getRecommendations(prefs, person, similarity = sim_pearson):\n",
    "    #参数1：偏好数据字典\n",
    "    #参数2：指定对象\n",
    "    #参数3：相似度评估方法，默认为p系数\n",
    "    \n",
    "    totals = {}#指定对象未看过影片加权评分字典，key-指定对象未看过的影片；value-加权评分，即其他对象评分 x 其他对象与对象自己的相似度\n",
    "    simSums = {} #指定对象未看过影片、其他对象看过影片，计算这样几组对象之间相似度之和,key-指定对象未看过的影片；value-对象之间的相似度之和\n",
    "    \n",
    "    \n",
    "    for other in prefs:#遍历其他对象\n",
    "        if other == person: continue #对象自己与自己不进行比较\n",
    "        sim = similarity(prefs,person,other)#评估对象与其他对象之间的相似度\n",
    "        \n",
    "        if sim<=0: continue #在p系数评估方法中，p<0意味着两个对象之间的呈负相关，因此对于负相关的对象无需进行推荐\n",
    "        \n",
    "        #找到对象与其他对象观看的影片补集，即自己没看过，而其他对象看过，进行推荐指数计算\n",
    "        for item in prefs[other]:#遍历其他对象所评分的影片\n",
    "            if item not in prefs[person] or prefs[person][item]==0:#找到对象没看过、其他对象看过的影片\n",
    "                totals.setdefault(item,0)#初始化键值对，未看过影片-推荐加权评分\n",
    "                totals[item] += prefs[other][item] * sim #赋值，其他对象评分 x 其他对象与对象自己的相似度\n",
    "                \n",
    "                simSums.setdefault(item,0)#初始化\n",
    "                simSums[item] += sim #其他所有对象与指定对象的相似度系数求和\n",
    "                \n",
    "    rankings = [(total/simSums[item], item) for item,total in totals.items()]#指定对象未看过影片的推荐指数列表，用元素表示  【推荐值，未看过影片】\n",
    "    \n",
    "    rankings.sort()#升序排序\n",
    "    rankings.reverse()#降序排序\n",
    "    return rankings#返回推荐指数列表"
   ]
  },
  {
   "cell_type": "markdown",
   "metadata": {},
   "source": [
    "#### 为toby没看过的影片计算推荐指数（默认采用p系数相似度评估法）"
   ]
  },
  {
   "cell_type": "code",
   "execution_count": 27,
   "metadata": {},
   "outputs": [
    {
     "data": {
      "text/plain": [
       "[(3.3477895267131017, 'The Night Listener'),\n",
       " (2.8325499182641614, 'Lady in the Water'),\n",
       " (2.530980703765565, 'Just My Luck')]"
      ]
     },
     "execution_count": 27,
     "metadata": {},
     "output_type": "execute_result"
    }
   ],
   "source": [
    "getRecommendations(critics,'Toby')"
   ]
  },
  {
   "cell_type": "markdown",
   "metadata": {},
   "source": [
    "#### 采用欧式距离相似度评估法计算推荐指数"
   ]
  },
  {
   "cell_type": "code",
   "execution_count": 28,
   "metadata": {},
   "outputs": [
    {
     "data": {
      "text/plain": [
       "[(3.457128694491423, 'The Night Listener'),\n",
       " (2.778584003814924, 'Lady in the Water'),\n",
       " (2.422482042361917, 'Just My Luck')]"
      ]
     },
     "execution_count": 28,
     "metadata": {},
     "output_type": "execute_result"
    }
   ],
   "source": [
    "getRecommendations(critics,'Toby',similarity = sim_distance)"
   ]
  },
  {
   "cell_type": "markdown",
   "metadata": {},
   "source": [
    "## 1.4 “物以类聚”\n",
    "### 基于影片之间的相似度，为指定对象推荐未看过的影片"
   ]
  },
  {
   "cell_type": "markdown",
   "metadata": {},
   "source": [
    "### 1.4.1 定义函数：交换偏好数据库的内键与外键位置\n",
    "#### { 人:{影片:分数},......} ----》 {影片:{人:分数},........}"
   ]
  },
  {
   "cell_type": "code",
   "execution_count": 29,
   "metadata": {},
   "outputs": [],
   "source": [
    "def transformPrefs(prefs):\n",
    "    #参数：转换前偏好数据集\n",
    "    \n",
    "    result = {} #初始化转换后数据集\n",
    "    for person in prefs: #遍历每一个外键（人）\n",
    "        for item in prefs[person]:#遍历每一个内键（影片）\n",
    "            result.setdefault(item,{})#初始化键值对\n",
    "            \n",
    "            result[item][person] = prefs[person][item]#交换每个评分记录的内外键\n",
    "            \n",
    "    return result"
   ]
  },
  {
   "cell_type": "code",
   "execution_count": 30,
   "metadata": {},
   "outputs": [
    {
     "data": {
      "text/plain": [
       "{'Lady in the Water': {'Lisa Rose': 2.5,\n",
       "  'Gene Seymour': 3.0,\n",
       "  'Michael Phillips': 2.5,\n",
       "  'Mich Lasalle': 3.0,\n",
       "  'Jack Mattews': 3.0},\n",
       " 'Snakes on a Plane': {'Lisa Rose': 3.5,\n",
       "  'Gene Seymour': 3.5,\n",
       "  'Michael Phillips': 3.0,\n",
       "  'Claudia Puig': 3.5,\n",
       "  'Mich Lasalle': 4.0,\n",
       "  'Jack Mattews': 4.0,\n",
       "  'Toby': 4.5},\n",
       " 'Just My Luck': {'Lisa Rose': 3.0,\n",
       "  'Gene Seymour': 1.5,\n",
       "  'Claudia Puig': 3.0,\n",
       "  'Mich Lasalle': 2.0},\n",
       " 'Superman Returns': {'Lisa Rose': 3.5,\n",
       "  'Gene Seymour': 5.0,\n",
       "  'Michael Phillips': 3.5,\n",
       "  'Claudia Puig': 4.0,\n",
       "  'Mich Lasalle': 3.0,\n",
       "  'Jack Mattews': 5.0,\n",
       "  'Toby': 4.0},\n",
       " 'You,Me and Dupree': {'Lisa Rose': 2.5,\n",
       "  'Gene Seymour': 3.5,\n",
       "  'Claudia Puig': 2.5,\n",
       "  'Mich Lasalle': 2.0,\n",
       "  'Jack Mattews': 3.5,\n",
       "  'Toby': 1.0},\n",
       " 'The Night Listener': {'Lisa Rose': 3.0,\n",
       "  'Gene Seymour': 3.0,\n",
       "  'Michael Phillips': 4.0,\n",
       "  'Claudia Puig': 4.5,\n",
       "  'Mich Lasalle': 3.0,\n",
       "  'Jack Mattews': 3.0}}"
      ]
     },
     "execution_count": 30,
     "metadata": {},
     "output_type": "execute_result"
    }
   ],
   "source": [
    "#转换\n",
    "movies = transformPrefs(critics)\n",
    "movies"
   ]
  },
  {
   "cell_type": "code",
   "execution_count": 31,
   "metadata": {},
   "outputs": [
    {
     "data": {
      "text/plain": [
       "-0.6454972243679047"
      ]
     },
     "execution_count": 31,
     "metadata": {},
     "output_type": "execute_result"
    }
   ],
   "source": [
    "sim_pearson(movies,'You,Me and Dupree','Snakes on a Plane')"
   ]
  },
  {
   "cell_type": "markdown",
   "metadata": {},
   "source": [
    "### 1.4.2 使用转换后的内外键，计算不同影片之间的相似度"
   ]
  },
  {
   "cell_type": "code",
   "execution_count": 21,
   "metadata": {},
   "outputs": [
    {
     "data": {
      "text/plain": [
       "[(0.6579516949597695, 'You,Me and Dupree'),\n",
       " (0.4879500364742689, 'Lady in the Water'),\n",
       " (0.11180339887498941, 'Snakes on a Plane'),\n",
       " (-0.1798471947990544, 'The Night Listener'),\n",
       " (-0.42289003161103106, 'Just My Luck')]"
      ]
     },
     "execution_count": 21,
     "metadata": {},
     "output_type": "execute_result"
    }
   ],
   "source": [
    "#找到与Superman returns评价最相思的几部影片\n",
    "topMatches(movies,'Superman Returns')"
   ]
  },
  {
   "cell_type": "markdown",
   "metadata": {},
   "source": [
    "### 1.4.3 为影片推荐评论者"
   ]
  },
  {
   "cell_type": "code",
   "execution_count": 22,
   "metadata": {},
   "outputs": [
    {
     "data": {
      "text/plain": [
       "[(4.0, 'Michael Phillips'), (3.0, 'Jack Mattews')]"
      ]
     },
     "execution_count": 22,
     "metadata": {},
     "output_type": "execute_result"
    }
   ],
   "source": [
    "#基于影片之间的相似程度，为影片推荐评论者\n",
    "getRecommendations(movies,'Just My Luck')"
   ]
  },
  {
   "cell_type": "markdown",
   "metadata": {},
   "source": [
    "### 1.4.4 定义函数：对所有影片进行两两相似度比较，构建全量数据比较集"
   ]
  },
  {
   "cell_type": "code",
   "execution_count": 23,
   "metadata": {},
   "outputs": [],
   "source": [
    "#求物品之间的相似度\n",
    "def calculateSimilarItems(prefs,n=10):\n",
    "    #参数1，prefs：表示偏好字典，其中key为用户，value为{影片:评分}\n",
    "    #参数2，n：缺省值为10，即查看与指定影片前10相似的其他影片\n",
    "    result = {}\n",
    "    \n",
    "    #使用transformPrefs，将原子典的key和value调换，即key为影片，value为{用户:评分}\n",
    "    itemPrefs = transformPrefs(prefs)\n",
    "    \n",
    "    for item in itemPrefs:\n",
    "        #为每一个item找到top n相似的其他item，特别注意：教材中计算作品相似度采用的又是欧式距离法\n",
    "        scores = topMatches(itemPrefs,item,n=n,similarity = sim_distance)\n",
    "        result[item] = scores\n",
    "    \n",
    "    return result"
   ]
  },
  {
   "cell_type": "code",
   "execution_count": 24,
   "metadata": {},
   "outputs": [
    {
     "data": {
      "text/plain": [
       "{'Lady in the Water': [(0.4494897427831781, 'You,Me and Dupree'),\n",
       "  (0.38742588672279304, 'The Night Listener'),\n",
       "  (0.3483314773547883, 'Snakes on a Plane'),\n",
       "  (0.3483314773547883, 'Just My Luck'),\n",
       "  (0.2402530733520421, 'Superman Returns')],\n",
       " 'Snakes on a Plane': [(0.3483314773547883, 'Lady in the Water'),\n",
       "  (0.32037724101704074, 'The Night Listener'),\n",
       "  (0.3090169943749474, 'Superman Returns'),\n",
       "  (0.2553967929896867, 'Just My Luck'),\n",
       "  (0.1886378647726465, 'You,Me and Dupree')],\n",
       " 'Just My Luck': [(0.3483314773547883, 'Lady in the Water'),\n",
       "  (0.32037724101704074, 'You,Me and Dupree'),\n",
       "  (0.2989350844248255, 'The Night Listener'),\n",
       "  (0.2553967929896867, 'Snakes on a Plane'),\n",
       "  (0.20799159651347807, 'Superman Returns')],\n",
       " 'Superman Returns': [(0.3090169943749474, 'Snakes on a Plane'),\n",
       "  (0.252650308587072, 'The Night Listener'),\n",
       "  (0.2402530733520421, 'Lady in the Water'),\n",
       "  (0.20799159651347807, 'Just My Luck'),\n",
       "  (0.1918253663634734, 'You,Me and Dupree')],\n",
       " 'You,Me and Dupree': [(0.4494897427831781, 'Lady in the Water'),\n",
       "  (0.32037724101704074, 'Just My Luck'),\n",
       "  (0.29429805508554946, 'The Night Listener'),\n",
       "  (0.1918253663634734, 'Superman Returns'),\n",
       "  (0.1886378647726465, 'Snakes on a Plane')],\n",
       " 'The Night Listener': [(0.38742588672279304, 'Lady in the Water'),\n",
       "  (0.32037724101704074, 'Snakes on a Plane'),\n",
       "  (0.2989350844248255, 'Just My Luck'),\n",
       "  (0.29429805508554946, 'You,Me and Dupree'),\n",
       "  (0.252650308587072, 'Superman Returns')]}"
      ]
     },
     "execution_count": 24,
     "metadata": {},
     "output_type": "execute_result"
    }
   ],
   "source": [
    "itemsim = calculateSimilarItems(critics)\n",
    "itemsim"
   ]
  },
  {
   "cell_type": "markdown",
   "metadata": {},
   "source": [
    "### 1.4.5 定义函数：基于影片之间的相似程度，为指定用户推荐未看过的影片"
   ]
  },
  {
   "cell_type": "code",
   "execution_count": 25,
   "metadata": {},
   "outputs": [],
   "source": [
    "#基于影片与影片之间的相似度，为用户进行推荐\n",
    "def getRecommendedItems(prefs,itemMatch,user):\n",
    "    #参数1：偏好数据集{人：{影片：分数}}\n",
    "    #参数2：影片相似度全量数据集 {指定影片：[（相似度,其他影片）,....}}\n",
    "    #参数3：指定对象（人）\n",
    "    \n",
    "    userRatings = prefs[user]#获取指定对象的评分集合\n",
    "    scores = {} #初始化权重参数求和字典 {未看过影片，求和(对应已看过影片评分 x 看过影片与未看过影片的相似度 )}\n",
    "    totalSim = {} #初始化相似系数求和字典 {未看过影片：相似度求和}\n",
    "    \n",
    "    for (item,rating) in userRatings.items():#遍历指定对象的观看影片及评分\n",
    "        for (similarity,item2) in itemMatch[item]:#遍历（相似度，其他影片）\n",
    "            \n",
    "            if item2 in userRatings: continue#筛选出指定对象未看过的影片\n",
    "            \n",
    "            if similarity<0: continue#筛选出相似度>0的组合，在p系数中，相似度<0表示负相关，故忽略\n",
    "            \n",
    "            scores.setdefault(item2,0)#初始化键值对\n",
    "            scores[item2] += similarity*rating#权重参数求和，权重参数 = 对应已看过影片评分 x 看过影片与未看过影片的相似度 \n",
    "            \n",
    "            totalSim.setdefault(item2,0)#初始化相似度求和键值对\n",
    "            totalSim[item2] += similarity#对相似度进行求和\n",
    "            \n",
    "    rankings = [(score/totalSim[item],item) for item,score in scores.items()]#未看过影片推荐指数 = 未看过影片权重参数和/与看过影片相似度和\n",
    "        \n",
    "    rankings.sort()#升序排序\n",
    "    rankings.reverse()#降序排序\n",
    "    return rankings"
   ]
  },
  {
   "cell_type": "markdown",
   "metadata": {},
   "source": [
    "#### 基于物品之间的相似度为Toby进行推荐"
   ]
  },
  {
   "cell_type": "code",
   "execution_count": 26,
   "metadata": {},
   "outputs": [
    {
     "data": {
      "text/plain": [
       "[(3.1667425234070894, 'The Night Listener'),\n",
       " (2.9366294028444346, 'Just My Luck'),\n",
       " (2.868767392626467, 'Lady in the Water')]"
      ]
     },
     "execution_count": 26,
     "metadata": {},
     "output_type": "execute_result"
    }
   ],
   "source": [
    "getRecommendedItems(critics,itemsim,'Toby')"
   ]
  },
  {
   "cell_type": "markdown",
   "metadata": {},
   "source": [
    "# 2 实践案例：MoiveLens数据集分析"
   ]
  },
  {
   "cell_type": "markdown",
   "metadata": {},
   "source": [
    "## 2.1 查看评分数据集"
   ]
  },
  {
   "cell_type": "markdown",
   "metadata": {},
   "source": [
    "#### 该评分数据总共有943个用户、1682部影片、10w条评分记录"
   ]
  },
  {
   "cell_type": "code",
   "execution_count": 27,
   "metadata": {},
   "outputs": [
    {
     "name": "stdout",
     "output_type": "stream",
     "text": [
      "943 users\n",
      "\n",
      "1682 items\n",
      "\n",
      "100000 ratings\n",
      "\n"
     ]
    }
   ],
   "source": [
    "for line in open('E:\\\\jupyter\\\\2-集体智慧编程\\\\ch2-提供推荐\\\\ml-100k\\\\u.info'):\n",
    "    print(line)"
   ]
  },
  {
   "cell_type": "markdown",
   "metadata": {},
   "source": [
    "#### 查看u.item中给的数据格式，该数据集记录着每一部被评论影片的信息，包括影片ID、片名、上映日期等"
   ]
  },
  {
   "cell_type": "code",
   "execution_count": 28,
   "metadata": {},
   "outputs": [
    {
     "name": "stdout",
     "output_type": "stream",
     "text": [
      "1|Toy Story (1995)|01-Jan-1995||http://us.imdb.com/M/title-exact?Toy%20Story%20(1995)|0|0|0|1|1|1|0|0|0|0|0|0|0|0|0|0|0|0|0\n",
      "\n",
      "2|GoldenEye (1995)|01-Jan-1995||http://us.imdb.com/M/title-exact?GoldenEye%20(1995)|0|1|1|0|0|0|0|0|0|0|0|0|0|0|0|0|1|0|0\n",
      "\n",
      "3|Four Rooms (1995)|01-Jan-1995||http://us.imdb.com/M/title-exact?Four%20Rooms%20(1995)|0|0|0|0|0|0|0|0|0|0|0|0|0|0|0|0|1|0|0\n",
      "\n",
      "4|Get Shorty (1995)|01-Jan-1995||http://us.imdb.com/M/title-exact?Get%20Shorty%20(1995)|0|1|0|0|0|1|0|0|1|0|0|0|0|0|0|0|0|0|0\n",
      "\n",
      "5|Copycat (1995)|01-Jan-1995||http://us.imdb.com/M/title-exact?Copycat%20(1995)|0|0|0|0|0|0|1|0|1|0|0|0|0|0|0|0|1|0|0\n",
      "\n",
      "6|Shanghai Triad (Yao a yao yao dao waipo qiao) (1995)|01-Jan-1995||http://us.imdb.com/Title?Yao+a+yao+yao+dao+waipo+qiao+(1995)|0|0|0|0|0|0|0|0|1|0|0|0|0|0|0|0|0|0|0\n",
      "\n",
      "7|Twelve Monkeys (1995)|01-Jan-1995||http://us.imdb.com/M/title-exact?Twelve%20Monkeys%20(1995)|0|0|0|0|0|0|0|0|1|0|0|0|0|0|0|1|0|0|0\n",
      "\n",
      "8|Babe (1995)|01-Jan-1995||http://us.imdb.com/M/title-exact?Babe%20(1995)|0|0|0|0|1|1|0|0|1|0|0|0|0|0|0|0|0|0|0\n",
      "\n",
      "9|Dead Man Walking (1995)|01-Jan-1995||http://us.imdb.com/M/title-exact?Dead%20Man%20Walking%20(1995)|0|0|0|0|0|0|0|0|1|0|0|0|0|0|0|0|0|0|0\n",
      "\n",
      "10|Richard III (1995)|22-Jan-1996||http://us.imdb.com/M/title-exact?Richard%20III%20(1995)|0|0|0|0|0|0|0|0|1|0|0|0|0|0|0|0|0|1|0\n",
      "\n",
      "11|Seven (Se7en) (1995)|01-Jan-1995||http://us.imdb.com/M/title-exact?Se7en%20(1995)|0|0|0|0|0|0|1|0|0|0|0|0|0|0|0|0|1|0|0\n",
      "\n"
     ]
    }
   ],
   "source": [
    "#读取电影数据\n",
    "i=0\n",
    "for line in open('E:\\\\jupyter\\\\2-集体智慧编程\\\\ch2-提供推荐\\\\ml-100k\\\\u.item'):\n",
    "    print(line)\n",
    "    i+=1\n",
    "    if i>10 :break"
   ]
  },
  {
   "cell_type": "markdown",
   "metadata": {},
   "source": [
    "#### 查看u.data数据集，即评分记录，包含4列，用户ID-影片ID-评分-评分时间"
   ]
  },
  {
   "cell_type": "code",
   "execution_count": 29,
   "metadata": {},
   "outputs": [
    {
     "name": "stdout",
     "output_type": "stream",
     "text": [
      "196\t242\t3\t881250949\n",
      "\n",
      "186\t302\t3\t891717742\n",
      "\n",
      "22\t377\t1\t878887116\n",
      "\n",
      "244\t51\t2\t880606923\n",
      "\n",
      "166\t346\t1\t886397596\n",
      "\n",
      "298\t474\t4\t884182806\n",
      "\n",
      "115\t265\t2\t881171488\n",
      "\n",
      "253\t465\t5\t891628467\n",
      "\n",
      "305\t451\t3\t886324817\n",
      "\n",
      "6\t86\t3\t883603013\n",
      "\n",
      "62\t257\t2\t879372434\n",
      "\n"
     ]
    }
   ],
   "source": [
    "#读取用户评分数据\n",
    "i=0\n",
    "p = 'E:\\\\jupyter\\\\2-集体智慧编程\\\\ch2-提供推荐\\\\ml-100k'\n",
    "for line in open(p+'\\\\u.data'):\n",
    "    print(line)\n",
    "    i+=1\n",
    "    if i>10 :break"
   ]
  },
  {
   "cell_type": "markdown",
   "metadata": {},
   "source": [
    "## 2.2 加载数据集并读取格式化信息 "
   ]
  },
  {
   "cell_type": "code",
   "execution_count": 30,
   "metadata": {},
   "outputs": [],
   "source": [
    "#将源数据转换为固定格式\n",
    "def loadMovieLens(path):\n",
    "    \n",
    "    \n",
    "    #获取影片标题\n",
    "    movies = {}\n",
    "    i=0\n",
    "    for line in open(path+'\\\\u.item',encoding='ISO-8859-1'):#遍历文件的每一行，特别注意指明文件的编码格式，否则会报错\n",
    "        (movieid,title) = line.split('|')[0:2]\n",
    "        movies[movieid] = title\n",
    "\n",
    "    \n",
    "    #获取用户评分数据\n",
    "    j=0\n",
    "    prefs = {}\n",
    "    for line in open(path+'\\\\u.data'):\n",
    "        (userid,movieid,rating,ts) = line.split('\\t')\n",
    "        prefs.setdefault(userid,{})\n",
    "        prefs[userid][movies[movieid]] = float(rating) #注意评分要表示为浮点数，便于计算\n",
    "\n",
    "        \n",
    "    return prefs"
   ]
  },
  {
   "cell_type": "code",
   "execution_count": 31,
   "metadata": {},
   "outputs": [
    {
     "name": "stdout",
     "output_type": "stream",
     "text": [
      "0.19360589981079102\n"
     ]
    }
   ],
   "source": [
    "import time\n",
    "\n",
    "path = 'E:\\\\jupyter\\\\2-集体智慧编程\\\\ch2-提供推荐\\\\ml-100k'\n",
    "\n",
    "time_start=time.time()\n",
    "prefs = loadMovieLens(path)\n",
    "time_end=time.time()\n",
    "\n",
    "\n",
    "print(time_end - time_start)\n",
    "# for k,i in prefs.items():\n",
    "#     print(k,i)\n",
    "#     break"
   ]
  },
  {
   "cell_type": "code",
   "execution_count": 32,
   "metadata": {},
   "outputs": [
    {
     "name": "stdout",
     "output_type": "stream",
     "text": [
      "39\n"
     ]
    }
   ],
   "source": [
    "#196号用户有39条评分记录\n",
    "print(len(prefs['196']))"
   ]
  },
  {
   "cell_type": "markdown",
   "metadata": {},
   "source": [
    "## 2.3 基于人与人之间的相似度对偏好数据集中的用户进行推荐"
   ]
  },
  {
   "cell_type": "code",
   "execution_count": 33,
   "metadata": {},
   "outputs": [
    {
     "data": {
      "text/plain": [
       "[(5.0, 'They Made Me a Criminal (1939)'),\n",
       " (5.0, 'Star Kid (1997)'),\n",
       " (5.0, 'Santa with Muscles (1996)'),\n",
       " (5.0, 'Saint of Fort Washington, The (1993)'),\n",
       " (5.0, 'Marlene Dietrich: Shadow and Light (1996) '),\n",
       " (5.0, 'Great Day in Harlem, A (1994)'),\n",
       " (5.0, 'Entertaining Angels: The Dorothy Day Story (1996)'),\n",
       " (5.0, 'Boys, Les (1997)'),\n",
       " (4.89884443128923, 'Legal Deceit (1997)'),\n",
       " (4.815019082242709, 'Letter From Death Row, A (1998)'),\n",
       " (4.7321082983941425, 'Hearts and Minds (1996)'),\n",
       " (4.696244466490867, 'Pather Panchali (1955)'),\n",
       " (4.652397061026758, 'Lamerica (1994)'),\n",
       " (4.538723693474813, 'Leading Man, The (1996)'),\n",
       " (4.535081339106105, 'Mrs. Dalloway (1997)'),\n",
       " (4.532337612572981, 'Innocents, The (1961)'),\n",
       " (4.527998574747076, 'Casablanca (1942)'),\n",
       " (4.510270149719864, 'Everest (1998)'),\n",
       " (4.493967755428438, 'Dangerous Beauty (1998)'),\n",
       " (4.485151301801341, 'Wallace & Gromit: The Best of Aardman Animation (1996)'),\n",
       " (4.463287461290221, 'Wrong Trousers, The (1993)'),\n",
       " (4.450979436941034, 'Kaspar Hauser (1993)'),\n",
       " (4.431079071179518, 'Usual Suspects, The (1995)'),\n",
       " (4.427520682864958, 'Maya Lin: A Strong Clear Vision (1994)'),\n",
       " (4.414870784592075, 'Wedding Gift, The (1994)'),\n",
       " (4.377445252656463, 'Affair to Remember, An (1957)'),\n",
       " (4.3760711104477705, 'Good Will Hunting (1997)'),\n",
       " (4.3760110990013965, 'As Good As It Gets (1997)'),\n",
       " (4.374146179500976, 'Anna (1996)'),\n",
       " (4.367437266504596, 'Close Shave, A (1995)')]"
      ]
     },
     "execution_count": 33,
     "metadata": {},
     "output_type": "execute_result"
    }
   ],
   "source": [
    "#基于人群相似度的推荐——获取87号用户的推荐\n",
    "getRecommendations(prefs, '87')[0:30]"
   ]
  },
  {
   "cell_type": "code",
   "execution_count": 34,
   "metadata": {},
   "outputs": [],
   "source": [
    "#计算各影片之间的相似度，为偏好字典中每一个影片找到TOP 50相似度的其他影片，总共有943部影片，运行可能会需要些时间\n",
    "itemsim = calculateSimilarItems(prefs,n=50)"
   ]
  },
  {
   "cell_type": "code",
   "execution_count": 35,
   "metadata": {},
   "outputs": [
    {
     "data": {
      "text/plain": [
       "943"
      ]
     },
     "execution_count": 35,
     "metadata": {},
     "output_type": "execute_result"
    }
   ],
   "source": [
    "len(prefs.keys())"
   ]
  },
  {
   "cell_type": "markdown",
   "metadata": {},
   "source": [
    "### 2.4 基于物品与物品之间的相似度为用户进行推荐"
   ]
  },
  {
   "cell_type": "code",
   "execution_count": 36,
   "metadata": {},
   "outputs": [
    {
     "data": {
      "text/plain": [
       "[(5.0, \"What's Eating Gilbert Grape (1993)\"),\n",
       " (5.0, 'Vertigo (1958)'),\n",
       " (5.0, 'Usual Suspects, The (1995)'),\n",
       " (5.0, 'Toy Story (1995)'),\n",
       " (5.0, 'Titanic (1997)'),\n",
       " (5.0, 'Sword in the Stone, The (1963)'),\n",
       " (5.0, 'Stand by Me (1986)'),\n",
       " (5.0, 'Sling Blade (1996)'),\n",
       " (5.0, 'Silence of the Lambs, The (1991)'),\n",
       " (5.0, 'Shining, The (1980)'),\n",
       " (5.0, 'Shine (1996)'),\n",
       " (5.0, 'Sense and Sensibility (1995)'),\n",
       " (5.0, 'Scream (1996)'),\n",
       " (5.0, 'Rumble in the Bronx (1995)'),\n",
       " (5.0, 'Rock, The (1996)'),\n",
       " (5.0, 'Robin Hood: Prince of Thieves (1991)'),\n",
       " (5.0, 'Reservoir Dogs (1992)'),\n",
       " (5.0, 'Police Story 4: Project S (Chao ji ji hua) (1993)'),\n",
       " (5.0, 'House of the Spirits, The (1993)'),\n",
       " (5.0, 'Fresh (1994)'),\n",
       " (5.0, 'Denise Calls Up (1995)'),\n",
       " (5.0, 'Day the Sun Turned Cold, The (Tianguo niezi) (1994)'),\n",
       " (5.0, 'Before the Rain (Pred dozhdot) (1994)'),\n",
       " (5.0, 'Assignment, The (1997)'),\n",
       " (5.0, '1-900 (1994)'),\n",
       " (4.875, \"Ed's Next Move (1996)\"),\n",
       " (4.833333333333333, 'Anna (1996)'),\n",
       " (4.8, 'Dark City (1998)'),\n",
       " (4.75, 'Flower of My Secret, The (Flor de mi secreto, La) (1995)'),\n",
       " (4.75, 'Broken English (1996)')]"
      ]
     },
     "execution_count": 36,
     "metadata": {},
     "output_type": "execute_result"
    }
   ],
   "source": [
    "#为87号用户找到top 30的推荐\n",
    "getRecommendedItems(prefs,itemsim,'87')[0:30]"
   ]
  },
  {
   "cell_type": "code",
   "execution_count": null,
   "metadata": {},
   "outputs": [],
   "source": []
  }
 ],
 "metadata": {
  "kernelspec": {
   "display_name": "Python 3",
   "language": "python",
   "name": "python3"
  },
  "language_info": {
   "codemirror_mode": {
    "name": "ipython",
    "version": 3
   },
   "file_extension": ".py",
   "mimetype": "text/x-python",
   "name": "python",
   "nbconvert_exporter": "python",
   "pygments_lexer": "ipython3",
   "version": "3.7.0"
  }
 },
 "nbformat": 4,
 "nbformat_minor": 2
}
